{
 "cells": [
  {
   "cell_type": "code",
   "execution_count": 1,
   "id": "7fc652c9",
   "metadata": {},
   "outputs": [],
   "source": [
    "# OMW Pseudo code"
   ]
  },
  {
   "cell_type": "code",
   "execution_count": 2,
   "id": "ef5def69",
   "metadata": {},
   "outputs": [],
   "source": [
    "# Calling the existing database and creating a connection to SQL\n",
    "#cnn= #pathtodatabase.connect('jupyter_sql.db')\n",
    "\n",
    "#df.to_sql(osp_prices,cnn) \n",
    "\n",
    "# Load the SQL module to iPython\n",
    "\n",
    "# Running a SQL module to jupyter with a line magic\n",
    "\n",
    "# %load_ext sql\n",
    "\n",
    "# We use the line magic here but this time to point the jupyter sql library to the database we want to use:\n",
    "\n",
    "# %sql sqlite:///here_name_of_the_db.db\n",
    "\n",
    "# Now we are ready to run our queries\n",
    "\n",
    "# We will use the notation of two percent signs to create a cell magic followed by sql then run our queries\n",
    "\n",
    "# Running examples:\n",
    "\n",
    "# %%sql\n",
    "\n",
    "# SELECT *\n",
    "# FROM AttendDet\n",
    "\n",
    "# Run and we get all the records \n",
    "# Count the number of records created:\n",
    "\n",
    "# SELECT count(*)\n",
    "# FROM AttendDet\n",
    "\n",
    "# %%sql\n",
    "# SELECT sum(JobMaterials) as \"sum_jobmaterials\"\n",
    "# FROM AttendDet\n",
    "\n",
    "# As expected, this code should be able to run SQL from jupyter\n",
    "\n"
   ]
  },
  {
   "cell_type": "code",
   "execution_count": 3,
   "id": "f32c57cb",
   "metadata": {},
   "outputs": [],
   "source": [
    "# Read SQL method is a good wrapper for reading a table\n",
    "\n",
    "# pd.read_sql(table)\n",
    "\n",
    "# Import all dependencies\n",
    "\n",
    "# CREATE ENGINE, is this step done? -- double check\n",
    "\n",
    "# query = \"\"\n",
    "#  SELECT * \n",
    "#  FROM  employees e\n",
    "#  JOIN salaries s\n",
    "#  ON e.emp_no = s.emp_no\n",
    "#  WHERE e.hire_date > '1999-01-01'\n",
    "# \"\"\n",
    "# pd.read_sql(query, engine)\n"
   ]
  },
  {
   "cell_type": "code",
   "execution_count": null,
   "id": "bce1ead8",
   "metadata": {},
   "outputs": [],
   "source": []
  },
  {
   "cell_type": "code",
   "execution_count": null,
   "id": "977c72ae",
   "metadata": {},
   "outputs": [],
   "source": []
  },
  {
   "cell_type": "code",
   "execution_count": null,
   "id": "49a30c4a",
   "metadata": {},
   "outputs": [],
   "source": []
  }
 ],
 "metadata": {
  "kernelspec": {
   "display_name": "Python 3 (ipykernel)",
   "language": "python",
   "name": "python3"
  },
  "language_info": {
   "codemirror_mode": {
    "name": "ipython",
    "version": 3
   },
   "file_extension": ".py",
   "mimetype": "text/x-python",
   "name": "python",
   "nbconvert_exporter": "python",
   "pygments_lexer": "ipython3",
   "version": "3.9.12"
  }
 },
 "nbformat": 4,
 "nbformat_minor": 5
}
